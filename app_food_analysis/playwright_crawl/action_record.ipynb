{
 "cells": [
  {
   "cell_type": "code",
   "execution_count": 19,
   "id": "0cbae58a",
   "metadata": {},
   "outputs": [],
   "source": [
    "from playwright.sync_api import sync_playwright"
   ]
  },
  {
   "cell_type": "code",
   "execution_count": null,
   "id": "332a330a",
   "metadata": {},
   "outputs": [],
   "source": [
    "def crawler_start():\n",
    "    with sync_playwright() as p:\n",
    "    \n",
    "        executable_path=\"C:/Program Files (x86)/Microsoft/Edge/Application/msedge.exe\"\n",
    "        profile_path = 'C:/Users/r1138/AppData/Local/Microsoft/Edge/User Data'\n",
    "        \n",
    "        browser =  p.chromium.launch_persistent_context(\n",
    "            executable_path=executable_path,\n",
    "            user_data_dir=profile_path,\n",
    "            headless=False,\n",
    "        )\n",
    "\n",
    "        page =  browser.new_page()\n",
    "        page.goto(\"https://www.foodpanda.com.tw\")\n",
    "\n",
    "        parent_locator = page.locator(\".joker-swimlane-sds.bg-interaction-primary-feedback.bc-interaction-tertiary > div > div.lane-wrapper > ul\").first\n",
    "        locator = parent_locator.locator(\"li\").first\n",
    "        locator.wait_for(state=\"visible\", timeout=10*1000)\n",
    "        text =  parent_locator.inner_html()\n",
    "\n",
    "        browser.close()\n",
    "    \n",
    "        return text\n",
    "\n",
    "html =  crawler_start()"
   ]
  }
 ],
 "metadata": {
  "kernelspec": {
   "display_name": "ai23",
   "language": "python",
   "name": "python3"
  },
  "language_info": {
   "codemirror_mode": {
    "name": "ipython",
    "version": 3
   },
   "file_extension": ".py",
   "mimetype": "text/x-python",
   "name": "python",
   "nbconvert_exporter": "python",
   "pygments_lexer": "ipython3",
   "version": "3.10.12"
  }
 },
 "nbformat": 4,
 "nbformat_minor": 5
}
