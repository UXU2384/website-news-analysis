{
 "cells": [
  {
   "cell_type": "code",
   "execution_count": 10,
   "id": "d42ac35f",
   "metadata": {},
   "outputs": [],
   "source": [
    "import os\n",
    "import sys\n",
    "import pandas as pd\n",
    "import argparse\n",
    "from datetime import datetime, timedelta\n",
    "import pathlib\n",
    "\n",
    "# 新增：將上一層目錄加入 sys.path\n",
    "parent_path = pathlib.Path().absolute().parent\n",
    "sys.path.insert(0, str(parent_path))\n",
    "# Setup Django environment\n",
    "os.environ.setdefault('DJANGO_SETTINGS_MODULE', 'website_configs.settings')\n",
    "import django\n",
    "django.setup()\n",
    "# 重要：設定環境變數以允許在 Jupyter 的異步環境中執行同步操作\n",
    "os.environ[\"DJANGO_ALLOW_ASYNC_UNSAFE\"] = \"true\"\n",
    "\n",
    "# Now we can import Django models\n",
    "from app_user_keyword_db.models import NewsData"
   ]
  },
  {
   "cell_type": "markdown",
   "id": "fad2fc61",
   "metadata": {},
   "source": [
    "# Django ORM CRUD Operations Tutorial\n",
    "\n",
    "CRUD stands for Create, Read, Uptimestamp, and Delete - the four basic operations for database management systems. In this tutorial, we'll explore how to perform these operations using Django ORM with the NewsData model.\n",
    "\n",
    "## NewsData Model Structure\n",
    "\n",
    "Let's first examine the structure of our NewsData model to understand its fields."
   ]
  },
  {
   "cell_type": "code",
   "execution_count": 11,
   "id": "653417c6",
   "metadata": {},
   "outputs": [
    {
     "name": "stdout",
     "output_type": "stream",
     "text": [
      "NewsData Model Fields:\n",
      "- id: CharField\n",
      "- timestamp: DateField\n",
      "- category: CharField\n",
      "- title: TextField\n",
      "- content: TextField\n",
      "- sentiment: FloatField\n",
      "- top_key_freq: TextField\n",
      "- tokens: TextField\n",
      "- tokens_v2: TextField\n",
      "- entities: TextField\n",
      "- token_pos: TextField\n",
      "- link: CharField\n",
      "- photo: CharField\n",
      "\n",
      "Total news entries in database: 13\n"
     ]
    }
   ],
   "source": [
    "# Inspect the NewsData model fields\n",
    "print('NewsData Model Fields:')\n",
    "for field in NewsData._meta.get_fields():\n",
    "    print(f'- {field.name}: {field.get_internal_type()}')\n",
    "\n",
    "# Display total count of news entries\n",
    "print(f'\\nTotal news entries in database: {NewsData.objects.count()}')"
   ]
  },
  {
   "cell_type": "markdown",
   "id": "5c620dbf",
   "metadata": {},
   "source": [
    "## 1. Create (C) - Adding New Data\n",
    "\n",
    "The 'Create' operation allows us to insert new records into the database. Here are different ways to create new NewsData objects."
   ]
  },
  {
   "cell_type": "code",
   "execution_count": 14,
   "id": "afa07ecb",
   "metadata": {},
   "outputs": [
    {
     "name": "stdout",
     "output_type": "stream",
     "text": [
      "Created news item: 馬斯克蒞臨高科大 (ID: )\n",
      "Note: The other examples are commented out to prevent adding test data to your database.\n"
     ]
    }
   ],
   "source": [
    "# Method 1: Create using the constructor and save() method\n",
    "new_news1 = NewsData(\n",
    "    title=\"馬斯克蒞臨高科大\",\n",
    "    link=\"https://example.com/news1\",\n",
    "    category=\"測試類別\",\n",
    "    content=\"This is a sample content about technology news for demonstration.\",\n",
    "    timestamp=datetime.now().date(),\n",
    "    photo=\"https://example.com/image1.jpg\"\n",
    ")\n",
    "# Uncomment to save: new_news1.save()\n",
    "\n",
    "# Method 2: Using objects.create() method\n",
    "# This creates and saves in one step\n",
    "new_news2 = NewsData.objects.create(\n",
    "    title=\"馬斯克蒞臨高科大\",\n",
    "    link=\"https://example.com/news2\",\n",
    "    category=\"測試類別\",\n",
    "    content=\"This is sample content about international news for demonstration.\",\n",
    "    timestamp=datetime.now().date(),\n",
    "    photo=None  # Shows that photo can be optional\n",
    ")\n",
    "\n",
    "# Method 3: Bulk creation (for adding multiple records at once)\n",
    "news_list = [\n",
    "    NewsData(\n",
    "        title=f\"Bulk Example {i}\", \n",
    "        link=f\"https://example.com/bulk{i}\",\n",
    "        category=\"測試類別\",\n",
    "        content=f\"Bulk created content {i}\",\n",
    "        timestamp=datetime.now().date()\n",
    "    ) for i in range(3, 6)\n",
    "]\n",
    "# Uncomment to save: NewsData.objects.bulk_create(news_list)\n",
    "\n",
    "print(f\"Created news item: {new_news2.title} (ID: {new_news2.id})\")\n",
    "print(\"Note: The other examples are commented out to prevent adding test data to your database.\")"
   ]
  },
  {
   "cell_type": "code",
   "execution_count": 15,
   "id": "e5313432",
   "metadata": {},
   "outputs": [
    {
     "data": {
      "text/plain": [
       "(1, {'app_user_keyword_db.NewsData': 1})"
      ]
     },
     "execution_count": 15,
     "metadata": {},
     "output_type": "execute_result"
    }
   ],
   "source": [
    "\n",
    "# Clean up - delete the example we created\n",
    "new_news2.delete()"
   ]
  },
  {
   "cell_type": "code",
   "execution_count": null,
   "id": "4177bf38",
   "metadata": {},
   "outputs": [],
   "source": []
  },
  {
   "cell_type": "markdown",
   "id": "394b0ffc",
   "metadata": {},
   "source": [
    "## 2. Read (R) - Querying Data\n",
    "\n",
    "The 'Read' operation retrieves data from the database. Django ORM provides powerful ways to query data."
   ]
  },
  {
   "cell_type": "code",
   "execution_count": null,
   "id": "a2c5044d",
   "metadata": {},
   "outputs": [],
   "source": [
    "# Basic querying examples\n",
    "\n",
    "# 1. Get all records\n",
    "all_news = NewsData.objects.all()\n",
    "print(f\"Total news items: {all_news.count()}\")\n"
   ]
  },
  {
   "cell_type": "code",
   "execution_count": null,
   "id": "36cc4d40",
   "metadata": {},
   "outputs": [],
   "source": [
    "\n",
    "# 2. Get a specific record by ID\n",
    "try:\n",
    "    first_id = NewsData.objects.first().id\n",
    "    specific_news = NewsData.objects.get(id=first_id)\n",
    "    print(f\"\\nNews by ID {first_id}: {specific_news.title}\")\n",
    "except:\n",
    "    print(\"Couldn't retrieve news by ID\")\n"
   ]
  },
  {
   "cell_type": "code",
   "execution_count": null,
   "id": "ce5c288e",
   "metadata": {},
   "outputs": [],
   "source": [
    "\n",
    "# 3. Filter records\n",
    "# Get news from a specific category\n",
    "tech_news = NewsData.objects.filter(category=\"科技\")\n",
    "print(f\"\\nTechnology news count: {tech_news.count()}\")\n",
    "if tech_news.exists():\n",
    "    print(f\"Example tech news: {tech_news.first().title}\")\n"
   ]
  },
  {
   "cell_type": "code",
   "execution_count": null,
   "id": "0c696887",
   "metadata": {},
   "outputs": [],
   "source": [
    "\n",
    "# 4. Complex filtering\n",
    "# Get news from the last 7 days\n",
    "one_week_ago = datetime.now().date() - timedelta(days=7)\n",
    "recent_news = NewsData.objects.filter(timestamp__gte=one_week_ago)\n",
    "print(f\"\\nNews from the last 7 days: {recent_news.count()}\")\n"
   ]
  },
  {
   "cell_type": "code",
   "execution_count": null,
   "id": "316c6e3e",
   "metadata": {},
   "outputs": [],
   "source": [
    "\n",
    "# 5. Ordering\n",
    "latest_news = NewsData.objects.order_by('-timestamp')[:5]  # Get 5 most recent news\n",
    "print(\"\\n5 most recent news:\")\n",
    "for news in latest_news:\n",
    "    print(f\"- {news.id} {news.timestamp}:{news.category} {news.title}\")\n"
   ]
  },
  {
   "cell_type": "code",
   "execution_count": null,
   "id": "427352ca",
   "metadata": {},
   "outputs": [],
   "source": [
    "\n",
    "# 6. Specific fields selection\n",
    "titles_only = NewsData.objects.values_list('title')[:3]\n",
    "print(\"\\nSome news titles:\")\n",
    "for title in titles_only:\n",
    "    print(f\"- {title}\")\n"
   ]
  },
  {
   "cell_type": "code",
   "execution_count": null,
   "id": "215777d7",
   "metadata": {},
   "outputs": [],
   "source": [
    "titles_only"
   ]
  },
  {
   "cell_type": "code",
   "execution_count": null,
   "id": "6e7de914",
   "metadata": {},
   "outputs": [],
   "source": [
    "\n",
    "# 6. Specific fields selection\n",
    "titles_only = NewsData.objects.values_list('title', flat=True)[:3]\n",
    "print(\"\\nSome news titles:\")\n",
    "for title in titles_only:\n",
    "    print(f\"- {title}\")\n"
   ]
  },
  {
   "cell_type": "code",
   "execution_count": null,
   "id": "38eedc74",
   "metadata": {},
   "outputs": [],
   "source": [
    "\n",
    "# 7. Text search (simple contains)\n",
    "keyword = \"台灣\"\n",
    "matching_news = NewsData.objects.filter(content__contains=keyword).count()\n",
    "print(f\"\\nNews mentioning '{keyword}': {matching_news}\")"
   ]
  },
  {
   "cell_type": "code",
   "execution_count": null,
   "id": "86c1f8da",
   "metadata": {},
   "outputs": [],
   "source": [
    "from django.db.models import Q, Max, F\n",
    "from collections import Counter"
   ]
  },
  {
   "cell_type": "markdown",
   "id": "08aa1b16",
   "metadata": {},
   "source": [
    "## 3. Uptimestamp (U) - Modifying Data\n",
    "\n",
    "The 'Uptimestamp' operation modifies existing records in the database. There are several ways to uptimestamp data in Django."
   ]
  },
  {
   "cell_type": "code",
   "execution_count": null,
   "id": "7bfcf92e",
   "metadata": {},
   "outputs": [],
   "source": [
    "# Let's demonstrate uptimestamps with a temporary test record\n",
    "test_news = NewsData.objects.create(\n",
    "    title=\"Test News for Uptimestamp Demo\",\n",
    "    link=\"https://example.com/test-uptimestamp\",\n",
    "    category=\"測試\",\n",
    "    content=\"This is a temporary record to show uptimestamp operations.\",\n",
    "    timestamp=datetime.now().date()\n",
    ")\n"
   ]
  },
  {
   "cell_type": "code",
   "execution_count": null,
   "id": "6c7b961c",
   "metadata": {},
   "outputs": [],
   "source": [
    "\n",
    "# Method 1: Instance uptimestamp\n",
    "print(f\"Original title: {test_news.title}\")\n",
    "test_news.title = \"Uptimestampd Test News Title\"\n",
    "test_news.category = \"更新測試\"\n",
    "test_news.save()\n",
    "print(f\"Uptimestampd title: {test_news.title}, Category: {test_news.category}\")\n"
   ]
  },
  {
   "cell_type": "code",
   "execution_count": null,
   "id": "1afb0421",
   "metadata": {},
   "outputs": [],
   "source": [
    "\n",
    "# Method 2: QuerySet uptimestamp (more efficient for multiple records)\n",
    "# This uptimestamps all matching records without loading them into memory\n",
    "uptimestamp_count = NewsData.objects.filter(id=test_news.id).uptimestamp(\n",
    "    content=\"This content was uptimestampd using QuerySet.uptimestamp() method.\",\n",
    "    photo=\"https://example.com/uptimestampd-image.jpg\"\n",
    ")\n",
    "print(f\"\\nRecords uptimestampd via QuerySet: {uptimestamp_count}\")\n"
   ]
  },
  {
   "cell_type": "code",
   "execution_count": null,
   "id": "154d94aa",
   "metadata": {},
   "outputs": [],
   "source": [
    "test_news.delete()"
   ]
  },
  {
   "cell_type": "markdown",
   "id": "d6dabbfb",
   "metadata": {},
   "source": [
    "## 4. Delete (D) - Removing Data\n",
    "\n",
    "The 'Delete' operation removes records from the database. Django provides various methods to delete data."
   ]
  },
  {
   "cell_type": "code",
   "execution_count": null,
   "id": "195e6d7c",
   "metadata": {},
   "outputs": [],
   "source": [
    "# Let's demonstrate uptimestamps with a temporary test record\n",
    "test_news = NewsData.objects.create(\n",
    "    id=\"item-123\",  # This will be auto-generated by the database\n",
    "    title=\"Test News for Uptimestamp Demo\",\n",
    "    link=\"https://example.com/test-uptimestamp\",\n",
    "    category=\"刪除測試\",\n",
    "    content=\"This is a temporary record to show uptimestamp operations.\",\n",
    "    timestamp=datetime.now().date()\n",
    ")\n"
   ]
  },
  {
   "cell_type": "code",
   "execution_count": null,
   "id": "0f16644e",
   "metadata": {},
   "outputs": [],
   "source": [
    "NewsData.objects.get(id=\"item-123\").delete()"
   ]
  },
  {
   "cell_type": "code",
   "execution_count": null,
   "id": "19596597",
   "metadata": {},
   "outputs": [],
   "source": [
    "NewsData.objects.filter( category=\"刪除測試\")"
   ]
  },
  {
   "cell_type": "code",
   "execution_count": null,
   "id": "84656462",
   "metadata": {},
   "outputs": [],
   "source": [
    "NewsData.objects.filter( category=\"刪除測試\").delete()"
   ]
  },
  {
   "cell_type": "code",
   "execution_count": null,
   "id": "9022ff07",
   "metadata": {},
   "outputs": [],
   "source": []
  },
  {
   "cell_type": "markdown",
   "id": "c4e66d7d",
   "metadata": {},
   "source": [
    "# filter_database_fullText"
   ]
  },
  {
   "cell_type": "code",
   "execution_count": null,
   "id": "7477622a",
   "metadata": {},
   "outputs": [],
   "source": [
    "# Searching keywords from \"content\" column\n",
    "# This function now uses database queries instead of pandas\n",
    "def filter_database_fullText(user_keywords, cond, cate, weeks):\n",
    "    # Get the latest timestamp in the database\n",
    "    latest_timestamp = NewsData.objects.aggregate(max_timestamp=Max('timestamp'))['max_timestamp']\n",
    "    \n",
    "    # Calculate start timestamp\n",
    "    start_timestamp = latest_timestamp - timedelta(weeks=weeks)\n",
    "    \n",
    "    # Base query - filter by timestamp range\n",
    "    queryset = NewsData.objects.filter(timestamp__gte=start_timestamp, timestamp__lte=latest_timestamp)\n",
    "    \n",
    "    # Filter by category if not \"全部\"\n",
    "    if cate != \"全部\":\n",
    "        queryset = queryset.filter(category=cate)\n",
    "    \n",
    "    # Filter by keywords based on condition (AND or OR)\n",
    "    if cond == 'and':\n",
    "        # For AND condition, we need all keywords to be present\n",
    "        for kw in user_keywords:\n",
    "            queryset = queryset.filter(content__contains=kw)\n",
    "    elif cond == 'or':\n",
    "        # For OR condition, any keyword can be present\n",
    "        q_objects = Q()\n",
    "        for kw in user_keywords:\n",
    "            q_objects |= Q(content__contains=kw)\n",
    "        # q_objects會長這樣： Q(content__contains=kw1) | Q(content__contains=kw2) | Q(content__contains=kw3)\n",
    "        # 這樣就可以用在filter裡面了\n",
    "        queryset = queryset.filter(q_objects)\n",
    "    \n",
    "    return queryset"
   ]
  },
  {
   "cell_type": "code",
   "execution_count": null,
   "id": "f2c64d20",
   "metadata": {},
   "outputs": [],
   "source": [
    "\n",
    "user_keywords = ['烏克蘭', '俄羅斯']  # Example keywords\n",
    "cond = 'and'  # Example condition (and/or), \n",
    "cate = '全部'  # Example category (or \"全部\" for all categories)\n",
    "weeks = 4  # Example weeks\n",
    "queryset = filter_database_fullText(user_keywords, cond, cate, weeks)"
   ]
  },
  {
   "cell_type": "code",
   "execution_count": null,
   "id": "7461b02c",
   "metadata": {},
   "outputs": [],
   "source": [
    "for news in queryset:\n",
    "    print(news.title)"
   ]
  },
  {
   "cell_type": "code",
   "execution_count": null,
   "id": "4e276c32",
   "metadata": {},
   "outputs": [],
   "source": [
    "# Limit to k results and get specific fields\n",
    "news_items = queryset.values('category', 'title', 'link', 'photo')[:3]"
   ]
  },
  {
   "cell_type": "code",
   "execution_count": null,
   "id": "16648dab",
   "metadata": {},
   "outputs": [],
   "source": [
    "news_items"
   ]
  },
  {
   "cell_type": "code",
   "execution_count": null,
   "id": "cb2d9d28",
   "metadata": {},
   "outputs": [],
   "source": [
    "list(queryset.values_list('timestamp', flat=True)) # flat=True to get a flat list 否則會是 tuple"
   ]
  },
  {
   "cell_type": "code",
   "execution_count": null,
   "id": "da0cf83c",
   "metadata": {},
   "outputs": [],
   "source": [
    "latest_timestamp = NewsData.objects.aggregate(max_timestamp=Max('timestamp'))['max_timestamp']"
   ]
  },
  {
   "cell_type": "code",
   "execution_count": null,
   "id": "3485c240",
   "metadata": {},
   "outputs": [],
   "source": [
    "latest_timestamp"
   ]
  },
  {
   "cell_type": "code",
   "execution_count": null,
   "id": "22b70b89",
   "metadata": {},
   "outputs": [],
   "source": [
    "from django.db.models import Avg, Count, Min, Max, Sum\n",
    "from django.db.models.functions import Extract\n",
    "\n",
    "# Aggregate是用來計算總和、平均值、最小值、最大值等統計數據的函數\n",
    "# 這些函數可以用來對查詢集進行聚合計算，並返回一個字典，其中包含計算結果的鍵值對\n",
    "# Basic aggregation examples\n",
    "aggregations = NewsData.objects.aggregate(\n",
    "    count=Count('id'),\n",
    "    oldest=Min('timestamp'),\n",
    "    newest=Max('timestamp'),\n",
    ")\n",
    "print(\"Basic aggregations:\")\n",
    "for key, value in aggregations.items():\n",
    "    print(f\"- {key}: {value}\")\n"
   ]
  },
  {
   "cell_type": "code",
   "execution_count": null,
   "id": "35efcc7b",
   "metadata": {},
   "outputs": [],
   "source": [
    "\n",
    "# Category-based aggregation\n",
    "category_counts = NewsData.objects.values('category').annotate(\n",
    "    count=Count('id')\n",
    ").order_by('-count')[:5]  # Top 5 categories\n",
    "print(\"\\nTop 5 categories by count:\")\n",
    "for item in category_counts:\n",
    "    print(f\"- {item['category']}: {item['count']} articles\")"
   ]
  },
  {
   "cell_type": "code",
   "execution_count": null,
   "id": "de40a737",
   "metadata": {},
   "outputs": [],
   "source": [
    "# annotate是用來在查詢集中添加計算字段的函數\n",
    "# 這些計算字段可以用來進行進一步的過濾、排序或分組操作\n",
    "# values是用來選擇查詢集中的特定字段的函數 字段就是資料庫中的欄位\n",
    "# timestamp-based aggregation (articles per day)\n",
    "timestamp_counts = NewsData.objects.values('timestamp').annotate(\n",
    "    count=Count('id')\n",
    ").order_by('-timestamp')[:7]  # Last 7 days with data\n",
    "\n",
    "print(\"\\nArticles per day (most recent 7 days with data):\")\n",
    "for item in timestamp_counts:\n",
    "    print(f\"- {item['timestamp']}: {item['count']} articles\")\n"
   ]
  }
 ],
 "metadata": {
  "kernelspec": {
   "display_name": "ai24",
   "language": "python",
   "name": "python3"
  },
  "language_info": {
   "codemirror_mode": {
    "name": "ipython",
    "version": 3
   },
   "file_extension": ".py",
   "mimetype": "text/x-python",
   "name": "python",
   "nbconvert_exporter": "python",
   "pygments_lexer": "ipython3",
   "version": "3.10.6"
  }
 },
 "nbformat": 4,
 "nbformat_minor": 5
}
