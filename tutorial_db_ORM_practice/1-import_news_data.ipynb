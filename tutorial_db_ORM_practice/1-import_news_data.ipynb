{
 "cells": [
  {
   "cell_type": "code",
   "execution_count": 1,
   "id": "d42ac35f",
   "metadata": {},
   "outputs": [],
   "source": [
    "import os\n",
    "import sys\n",
    "import pandas as pd\n",
    "import argparse\n",
    "from datetime import datetime\n",
    "import pathlib\n",
    "\n",
    "# # Setup Django environment\n",
    "# # Alternative 1: Use absolute path construction\n",
    "# current_dir = os.path.abspath('')\n",
    "# parent_dir = os.path.dirname(current_dir)\n",
    "# sys.path.insert(0, parent_dir)\n",
    "\n",
    "# # Alternative 2: Use pathlib for more modern path handling\n",
    "# parent_path = pathlib.Path().absolute().parent\n",
    "# sys.path.insert(0, str(parent_path))\n",
    "\n",
    "# 新增：將上一層目錄加入 sys.path\n",
    "parent_path = pathlib.Path().absolute().parent\n",
    "sys.path.insert(0, str(parent_path))\n",
    "\n",
    "os.environ.setdefault('DJANGO_SETTINGS_MODULE', 'website_configs.settings')\n",
    "import django\n",
    "django.setup()\n",
    "# 重要：設定環境變數以允許在 Jupyter 的異步環境中執行同步操作\n",
    "os.environ[\"DJANGO_ALLOW_ASYNC_UNSAFE\"] = \"true\"\n",
    "\n",
    "# Now we can import Django models\n",
    "from app_user_keyword_db.models import NewsData"
   ]
  },
  {
   "cell_type": "code",
   "execution_count": 5,
   "id": "cb2d9d28",
   "metadata": {},
   "outputs": [
    {
     "name": "stdout",
     "output_type": "stream",
     "text": [
      "Created new NewsData object with id: ithome_AI_20250307_1\n",
      "Created new NewsData object with id: ithome_AI_20250307_2\n",
      "Created new NewsData object with id: ithome_AI_20250307_3\n",
      "Created new NewsData object with id: ithome_AI_20250304_4\n",
      "Created new NewsData object with id: ithome_雲端_20250306_1\n",
      "Created new NewsData object with id: ithome_雲端_20250306_2\n",
      "Created new NewsData object with id: ithome_雲端_20250305_3\n",
      "Created new NewsData object with id: ithome_雲端_20250304_4\n",
      "Created new NewsData object with id: ithome_資安_20250307_1\n",
      "Created new NewsData object with id: ithome_資安_20250307_2\n",
      "Created new NewsData object with id: ithome_資安_20250307_3\n",
      "Created new NewsData object with id: ithome_資安_20250307_4\n"
     ]
    }
   ],
   "source": [
    "# Read CSV file\n",
    "csv_file_path = '..\\\\app_sentiment\\\\dataset\\\\ithome_news_200_preprocessed.csv'\n",
    "df = pd.read_csv(csv_file_path, sep='|')\n",
    "\n",
    "# Process each row and create a NewsData object\n",
    "for idx, row in df.iterrows():\n",
    "    try:\n",
    "        # Convert date string to datetime object\n",
    "        date_obj = datetime.strptime(row['timestamp'], '%Y-%m-%d').date()\n",
    "\n",
    "        # Create or update NewsData object\n",
    "        news_data, created = NewsData.objects.update_or_create(\n",
    "            id=row['id'],\n",
    "            defaults={\n",
    "                'timestamp': date_obj,\n",
    "                'category': row['category'],\n",
    "                'title': row['title'],\n",
    "                'content': row['content'],\n",
    "                'sentiment': row['sentiment'],\n",
    "                #'summary': row['summary'],\n",
    "                'top_key_freq': row['top_key_freq'],\n",
    "                'tokens': row['tokens'],\n",
    "                'tokens_v2': row['tokens_v2'],\n",
    "                'entities': row['entities'],\n",
    "                'token_pos': row['token_pos'],\n",
    "                'link': row['link'],\n",
    "                'photo': row['photo'] if row['photo'] != \"\" and not pd.isna(row['photo']) else None,\n",
    "            }\n",
    "        )\n",
    "        if created:\n",
    "            print(f\"Created new NewsData object with id: {row['id']}\")\n",
    "        else:\n",
    "            print(f\"Updated existing NewsData object with id: {row['id']}\")\n",
    "    except Exception as e:\n",
    "        print(f\"Error at row {idx}: {e}\")\n",
    "        print(row)\n",
    "# photo 欄位的值可能為以下幾種情況：\n",
    "# 實際有值的 URL 字串\n",
    "# 空字串 (\"\")\n",
    "# Pandas NaN 值（當 CSV 檔案中該欄位為空時）\n",
    "# None 值        "
   ]
  }
 ],
 "metadata": {
  "kernelspec": {
   "display_name": "ai23",
   "language": "python",
   "name": "python3"
  },
  "language_info": {
   "codemirror_mode": {
    "name": "ipython",
    "version": 3
   },
   "file_extension": ".py",
   "mimetype": "text/x-python",
   "name": "python",
   "nbconvert_exporter": "python",
   "pygments_lexer": "ipython3",
   "version": "3.10.12"
  }
 },
 "nbformat": 4,
 "nbformat_minor": 5
}
